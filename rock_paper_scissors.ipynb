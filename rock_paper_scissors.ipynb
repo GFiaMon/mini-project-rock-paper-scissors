{
 "cells": [
  {
   "cell_type": "markdown",
   "metadata": {},
   "source": [
    "### Here we have to import the Random library"
   ]
  },
  {
   "cell_type": "markdown",
   "metadata": {},
   "source": []
  },
  {
   "cell_type": "code",
   "execution_count": 6,
   "metadata": {},
   "outputs": [],
   "source": [
    "import random\n",
    "\n",
    "list = [\"rock\", \"papper\", \"scissors\"]\n",
    "# print(random.choice(list))\n",
    "\n",
    "# print(random.choice(list))\n",
    "# # Example usage of the random module\n",
    "# random_number = random.randint(1, 10)\n",
    "# print(random_number)"
   ]
  },
  {
   "cell_type": "code",
   "execution_count": 9,
   "metadata": {},
   "outputs": [
    {
     "name": "stdout",
     "output_type": "stream",
     "text": [
      "Valid input!\n",
      "Great, you chose: rock\n"
     ]
    }
   ],
   "source": [
    "# Get user input\n",
    "\n",
    "# user_choice = user_input\n",
    "# while user_choice not in list:\n",
    "while True:\n",
    " user_choice = input(\"Welcome to Rock, Paper, Scissors! Press Enter to start.\").strip().lower()   # Normalize input (remove spaces and convert to lowercase)\n",
    "  # Check if the input is in the list\n",
    " if user_choice in list:\n",
    "      print(\"Valid input!\")\n",
    "      print(\"Great, you chose: \" + user_choice)\n",
    "      break\n",
    " else:\n",
    "      print(\"Wrong input! Please try again.\")\n",
    "      # continue\n",
    "     \n",
    "\n"
   ]
  },
  {
   "cell_type": "markdown",
   "metadata": {},
   "source": [
    "Here is where computer chooses an option:"
   ]
  },
  {
   "cell_type": "code",
   "execution_count": 27,
   "metadata": {},
   "outputs": [
    {
     "name": "stdout",
     "output_type": "stream",
     "text": [
      "Computer choice: rock\n"
     ]
    }
   ],
   "source": [
    " computer_choice = random.choice(list)\n",
    " print(f\"Computer choice: {computer_choice}\")"
   ]
  },
  {
   "cell_type": "code",
   "execution_count": 28,
   "metadata": {},
   "outputs": [
    {
     "name": "stdout",
     "output_type": "stream",
     "text": [
      "It's a tie!\n"
     ]
    }
   ],
   "source": [
    " if user_choice == computer_choice:\n",
    "     print(\"It's a tie!\")\n",
    " elif user_choice == \"rock\" and computer_choice == \"scissors\":\n",
    "     print(f\"You win! The computer choose {computer_choice}. Rock beats scissors.\")\n",
    " elif user_choice == \"papper\" and computer_choice == \"rock\":\n",
    "     print(f\"You win! The computer choose {computer_choice}. Papper beats rock.\")\n",
    " elif user_choice == \"scissors\" and computer_choice == \"papper\":\n",
    "     print(f\"You win! The computer choose {computer_choice}. Scissors beats papper.\")\n",
    " elif user_choice == \"rock\" and computer_choice == \"papper\":\n",
    "     print(f\"You lose! The computer choose {computer_choice}. Rock beats papper.\")\n",
    " elif user_choice == \"papper\" and computer_choice == \"scissors\":\n",
    "     print(f\"You lose! The computer choose {computer_choice}. Papper beats scissors.\")\n",
    " elif user_choice == \"scissors\" and computer_choice == \"rock\":\n",
    "     print(f\"You lose! The computer choose {computer_choice}. Scissors beats rock.\")\n",
    "  \n"
   ]
  }
 ],
 "metadata": {
  "kernelspec": {
   "display_name": "base",
   "language": "python",
   "name": "python3"
  },
  "language_info": {
   "codemirror_mode": {
    "name": "ipython",
    "version": 3
   },
   "file_extension": ".py",
   "mimetype": "text/x-python",
   "name": "python",
   "nbconvert_exporter": "python",
   "pygments_lexer": "ipython3",
   "version": "3.12.7"
  }
 },
 "nbformat": 4,
 "nbformat_minor": 2
}
